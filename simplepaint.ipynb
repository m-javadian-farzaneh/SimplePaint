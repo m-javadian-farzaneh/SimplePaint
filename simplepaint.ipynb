{
 "cells": [
  {
   "cell_type": "code",
   "execution_count": 1,
   "metadata": {},
   "outputs": [],
   "source": [
    "import cv2\n",
    "import numpy as np\n",
    "import matplotlib.pyplot as plt"
   ]
  },
  {
   "cell_type": "code",
   "execution_count": 2,
   "metadata": {},
   "outputs": [],
   "source": [
    "back_image = np.zeros((500,700,3),np.uint8)\n",
    "\n",
    "size_trackbar_max = 20\n",
    "color_trackbar_max = 255\n",
    "\n",
    "color = (255,255,0)\n",
    "\n",
    "drawing_enabled = False\n",
    "\n",
    "size_trackbar_name = 'Pointer Size' \n",
    "red_trackbar_name = 'Red Value'\n",
    "green_trackbar_name = 'Green Value'\n",
    "blue_trackbar_name = 'Blue Value'\n",
    "\n",
    "window_name = 'Simple Paint'"
   ]
  },
  {
   "cell_type": "code",
   "execution_count": 3,
   "metadata": {},
   "outputs": [],
   "source": [
    "def trackbar_event(val):\n",
    "    pass\n",
    "\n",
    "def mouse_event(event,x,y,flag,params):\n",
    "    global drawing_enabled\n",
    "    # get each value of trackbars to set pointer size and color.\n",
    "    psize = cv2.getTrackbarPos(size_trackbar_name,window_name)\n",
    "    rvalue = cv2.getTrackbarPos(red_trackbar_name,window_name)\n",
    "    gvalue = cv2.getTrackbarPos(green_trackbar_name,window_name)\n",
    "    bvalue = cv2.getTrackbarPos(blue_trackbar_name,window_name)\n",
    "\n",
    "    color = (bvalue,gvalue,rvalue)\n",
    "\n",
    "    if event == cv2.EVENT_LBUTTONDOWN:\n",
    "        drawing_enabled = True\n",
    "\n",
    "    elif event == cv2.EVENT_MOUSEMOVE:\n",
    "        if drawing_enabled == True:            \n",
    "            cv2.circle(back_image,(x,y),psize,color,-1)\n",
    "            \n",
    "    elif event == cv2.EVENT_LBUTTONUP:\n",
    "        drawing_enabled = False"
   ]
  },
  {
   "cell_type": "code",
   "execution_count": 4,
   "metadata": {},
   "outputs": [],
   "source": [
    "# Create a window\n",
    "cv2.namedWindow(window_name)\n",
    "# Create maker Size and Color trackbars.\n",
    "cv2.createTrackbar(size_trackbar_name,window_name,1,size_trackbar_max,trackbar_event)\n",
    "cv2.createTrackbar(red_trackbar_name,window_name,0,color_trackbar_max,trackbar_event)\n",
    "cv2.createTrackbar(green_trackbar_name,window_name,0,color_trackbar_max,trackbar_event)\n",
    "cv2.createTrackbar(blue_trackbar_name,window_name,0,color_trackbar_max,trackbar_event)\n",
    "# set mouse callback\n",
    "cv2.setMouseCallback(window_name,mouse_event)\n",
    "# set Default color to a color like aqua.\n",
    "cv2.setTrackbarPos(red_trackbar_name,window_name,0)\n",
    "cv2.setTrackbarPos(green_trackbar_name,window_name,255)\n",
    "cv2.setTrackbarPos(blue_trackbar_name,window_name,255)\n",
    "\n"
   ]
  },
  {
   "cell_type": "code",
   "execution_count": 5,
   "metadata": {},
   "outputs": [
    {
     "data": {
      "text/plain": [
       "True"
      ]
     },
     "execution_count": 5,
     "metadata": {},
     "output_type": "execute_result"
    }
   ],
   "source": [
    "\n",
    "while True:\n",
    "\n",
    "    cv2.imshow(window_name,back_image)\n",
    "    k = cv2.waitKey(1)\n",
    "    if k == 27:\n",
    "        break\n",
    "    # c to reset the image.\n",
    "    elif k == ord('c'):\n",
    "        back_image = np.zeros((500,700,3),np.uint8)\n",
    "\n",
    "cv2.destroyAllWindows()\n",
    "cv2.imwrite('result.jpg',back_image)\n"
   ]
  }
 ],
 "metadata": {
  "kernelspec": {
   "display_name": "Python 3",
   "language": "python",
   "name": "python3"
  },
  "language_info": {
   "codemirror_mode": {
    "name": "ipython",
    "version": 3
   },
   "file_extension": ".py",
   "mimetype": "text/x-python",
   "name": "python",
   "nbconvert_exporter": "python",
   "pygments_lexer": "ipython3",
   "version": "3.10.6"
  },
  "orig_nbformat": 4
 },
 "nbformat": 4,
 "nbformat_minor": 2
}
